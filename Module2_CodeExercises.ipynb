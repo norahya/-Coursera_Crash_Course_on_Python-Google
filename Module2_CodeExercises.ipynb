{
 "cells": [
  {
   "cell_type": "markdown",
   "id": "7ee6e85a-c7bf-44d6-a1fa-819bc741b3ac",
   "metadata": {},
   "source": [
    "# Module 2 Code Exercises"
   ]
  },
  {
   "cell_type": "markdown",
   "id": "b977511b-7823-4fc3-a676-8ca03be17458",
   "metadata": {},
   "source": [
    "---\n",
    "## Practice Quiz: Functions"
   ]
  },
  {
   "cell_type": "markdown",
   "id": "48a4b3b5-14ae-4aea-8aa9-c07ddad68df2",
   "metadata": {},
   "source": [
    "### Question 1\n",
    "The function in the code below converts kilometers (km) to meters (m). In this exercise, you'll edit the code to:\n",
    "    1. Complete the function so it returns the result of the conversion.\n",
    "    2. Call the function to convert the trip distance from kilometers to meters.\n",
    "    3. Print a text string display the result of the conversion.\n",
    "   \n",
    "**NOTE:** As you edit this code, do not change the indentation. If you do, it might return an error."
   ]
  },
  {
   "cell_type": "code",
   "execution_count": 7,
   "id": "a3bc7940-bb5e-4ffd-8b39-c3b46abbd242",
   "metadata": {},
   "outputs": [
    {
     "name": "stdout",
     "output_type": "stream",
     "text": [
      "The distance in meters is 55000\n"
     ]
    }
   ],
   "source": [
    "# 1) Complete the code to return the result of the conversion\n",
    "def convert_distance(km):\n",
    "\tm = km * 1000  # exactly 1000 meters in 1 kilometer\n",
    "\treturn m\n",
    "\n",
    "\n",
    "# Do not indent any of the following lines of code as they are\n",
    "# meant to be located outside of the function above\n",
    "\n",
    "\n",
    "my_trip_kilometers = 55\n",
    "\n",
    "\n",
    "# 2) Convert my_trip_kilometers to meters by calling the function above\n",
    "my_trip_meters = convert_distance(my_trip_kilometers)\n",
    "\n",
    "\n",
    "# 3) Fill in the blank to print the result of converting my_trip_kilometers\n",
    "print(\"The distance in meters is \" + str(my_trip_meters))\n"
   ]
  },
  {
   "cell_type": "markdown",
   "id": "a9818621-c0e1-46a8-97cf-e4fe1c03cc0b",
   "metadata": {},
   "source": [
    "### Question 4  \n",
    "Complete the first line of the “print_seconds” function so that it accepts three parameters: hours, minutes, and seconds. Remember, to define a function, you use the def keyword followed by the function name and parentheses. The function parameters go inside the parentheses in the function definition, and they represent the values that will be given to the function when it is called. Also remember that the print function is a built-in Python function that outputs its arguments to the console. You call a function by using its name followed by parentheses, with the arguments for the function inside the parentheses."
   ]
  },
  {
   "cell_type": "markdown",
   "id": "1de30a76-1253-416d-a453-1ffd6afe65bf",
   "metadata": {},
   "source": [
    "---\n",
    "\n",
    "## Practice Quiz: Conditionals\n",
    "\n"
   ]
  },
  {
   "cell_type": "markdown",
   "id": "27bc164d-a538-4a8f-8895-62a45adfddac",
   "metadata": {},
   "source": [
    "### Question 2\n",
    "Complete the script by filling in the missing parts. The function receives a name, then returns a greeting based on whether or not that name is \"Taylor\"."
   ]
  },
  {
   "cell_type": "code",
   "execution_count": 8,
   "id": "3332da08-1014-43f1-96de-1e9d8e9a0dea",
   "metadata": {},
   "outputs": [
    {
     "name": "stdout",
     "output_type": "stream",
     "text": [
      "Welcome back Taylor!\n",
      "Hello there, John\n"
     ]
    }
   ],
   "source": [
    "def greeting(name):\n",
    "  if name == \"Taylor\":\n",
    "    return \"Welcome back Taylor!\"\n",
    "  else:\n",
    "    return \"Hello there, \" + name\n",
    "\n",
    "print(greeting(\"Taylor\"))\n",
    "print(greeting(\"John\"))"
   ]
  },
  {
   "cell_type": "markdown",
   "id": "36d1e7e3-45a8-480c-8f1d-006a4ebd391a",
   "metadata": {},
   "source": [
    "### Question 5\n",
    "If a filesystem has a block size of 4096 bytes, this means that a file comprised of only one byte will still use 4096 bytes of storage. A file made up of 4097 bytes will use 4096*2=8192 bytes of storage. Knowing this, can you fill in the gaps in the calculate_storage function below, which calculates the total number of bytes needed to store a file of a given size?"
   ]
  },
  {
   "cell_type": "code",
   "execution_count": 9,
   "id": "866f29a4-debc-4f8d-8958-81df4351c510",
   "metadata": {},
   "outputs": [
    {
     "name": "stdout",
     "output_type": "stream",
     "text": [
      "4096\n",
      "4096\n",
      "8192\n",
      "8192\n"
     ]
    }
   ],
   "source": [
    "def calculate_storage(filesize):\n",
    "    block_size = 4096\n",
    "    # Use floor division to calculate how many blocks are fully occupied\n",
    "    full_blocks = filesize // block_size\n",
    "    # Use the modulo operator to check whether there's any remainder\n",
    "    partial_block_remainder = filesize % block_size\n",
    "    # Depending on whether there's a remainder or not, return\n",
    "    # the total number of bytes required to allocate enough blocks\n",
    "    # to store your data.\n",
    "    if partial_block_remainder > 0:\n",
    "        return block_size * (full_blocks + 1)\n",
    "    return block_size * full_blocks\n",
    "\n",
    "print(calculate_storage(1))    # Should be 4096\n",
    "print(calculate_storage(4096)) # Should be 4096\n",
    "print(calculate_storage(4097)) # Should be 8192\n",
    "print(calculate_storage(6000)) # Should be 8192"
   ]
  },
  {
   "cell_type": "markdown",
   "id": "04d00161-08f9-4d51-85ee-19334c97c502",
   "metadata": {},
   "source": [
    "---\n",
    "\n",
    "## Module 2 Graded Assessment"
   ]
  },
  {
   "cell_type": "markdown",
   "id": "ed712bee-1f63-4395-81d6-49e7a6d88466",
   "metadata": {},
   "source": [
    "### Question 1\n",
    "Question 1\n",
    "Complete the code to output the statement, “192.168.1.10 is the IP address of Printer Server 1”. Remember that precise syntax must be used to receive credit."
   ]
  },
  {
   "cell_type": "code",
   "execution_count": 12,
   "id": "106b7f1f-8048-4910-a0a3-b02a0492838d",
   "metadata": {},
   "outputs": [
    {
     "name": "stdout",
     "output_type": "stream",
     "text": [
      "192.168.1.10 is the IP address of Printer Server 1\n"
     ]
    }
   ],
   "source": [
    "IP_address = \"192.168.1.10\"\n",
    "host_name = \"Printer Server 1\"\n",
    "print(IP_address + \" is the IP address of \" + host_name)\n",
    "# Should print \"192.168.1.10 is the IP address of Printer Server 1\""
   ]
  },
  {
   "cell_type": "markdown",
   "id": "d96d22d5-5101-4e2d-87aa-d0374b099f2d",
   "metadata": {},
   "source": [
    "### Question 4\n",
    "Consider the following scenario about using if-elif-else statements: \n",
    "\n",
    "Students in a class receive their grades as Pass/Fail. Scores of 60 or more (out of 100) mean that the grade is \"Pass\". For lower scores, the grade is \"Fail\". In addition, scores above 95 (not included) are graded as \"Top Score\". \n",
    "\n",
    "Fill in the blanks in this function so that it returns the appropriate \"Pass\",  \"Fail\", or \"Top Score\" grade."
   ]
  },
  {
   "cell_type": "code",
   "execution_count": 13,
   "id": "78832d24-8052-4684-b6d6-e719effdd64c",
   "metadata": {},
   "outputs": [
    {
     "name": "stdout",
     "output_type": "stream",
     "text": [
      "Pass\n",
      "Fail\n",
      "Pass\n",
      "Pass\n",
      "Top Score\n",
      "Fail\n"
     ]
    }
   ],
   "source": [
    "def exam_grade(score):\n",
    "    if score > 95:\n",
    "        grade = \"Top Score\"\n",
    "    elif score >= 60:\n",
    "        grade = \"Pass\"\n",
    "    else:\n",
    "        grade = \"Fail\"\n",
    "    return grade\n",
    "\n",
    "\n",
    "print(exam_grade(65)) # Should print Pass\n",
    "print(exam_grade(55)) # Should print Fail\n",
    "print(exam_grade(60)) # Should print Pass\n",
    "print(exam_grade(95)) # Should print Pass\n",
    "print(exam_grade(100)) # Should print Top Score\n",
    "print(exam_grade(0)) # Should print Fail"
   ]
  },
  {
   "cell_type": "markdown",
   "id": "3e65f300-b7fa-482c-931d-5dd7a9e25932",
   "metadata": {},
   "source": [
    "### Question 6  \n",
    "Question 6\n",
    "Fill in the blanks to complete the function.  The character translator function receives a single lowercase letter, then prints the numeric location of the letter in the English alphabet.  For example, “a” would return 1 and “b” would return 2. Currently, this function only supports the letters “a”, “b”, “c”, and “d” It returns \"unknown\" for all other letters or if the letter is uppercase."
   ]
  },
  {
   "cell_type": "code",
   "execution_count": 14,
   "id": "0dd7c7b0-ec80-4d3a-a14c-4110b726585f",
   "metadata": {},
   "outputs": [
    {
     "name": "stdout",
     "output_type": "stream",
     "text": [
      "1\n",
      "2\n",
      "3\n",
      "4\n",
      "unknown\n",
      "unknown\n",
      "unknown\n"
     ]
    }
   ],
   "source": [
    "def letter_translator(letter):\n",
    "    if letter == \"a\":\n",
    "        letter_position = 1\n",
    "    elif letter == \"b\":\n",
    "        letter_position = 2\n",
    "    elif letter == \"c\":\n",
    "        letter_position = 3\n",
    "    elif letter == \"d\":\n",
    "        letter_position = 4\n",
    "    else:\n",
    "        letter_position = \"unknown\"\n",
    "    return letter_position\n",
    "\n",
    "\n",
    "print(letter_translator(\"a\")) # Should print 1\n",
    "print(letter_translator(\"b\")) # Should print 2\n",
    "print(letter_translator(\"c\")) # Should print 3\n",
    "print(letter_translator(\"d\")) # Should print 4\n",
    "print(letter_translator(\"e\")) # Should print unknown\n",
    "print(letter_translator(\"A\")) # Should print unknown\n",
    "print(letter_translator(\"\")) # Should print unknown"
   ]
  },
  {
   "cell_type": "markdown",
   "id": "02276ec1-3191-4bb7-a1a7-852560c004b2",
   "metadata": {},
   "source": [
    "### Question 9  \n",
    "Fill in the blanks to complete the “safe_division” function. The function accepts two numeric variables through the function parameters and divides the “numerator” by the “denominator”. The function’s main purpose is to prevent a ZeroDivisionError by checking if the “denominator” is 0. If it is 0, the function should return 0 instead of attempting the division. Otherwise all other numbers will be part of the division equation. Complete the body of the function so that the function completes its purpose. "
   ]
  },
  {
   "cell_type": "code",
   "execution_count": 15,
   "id": "4ae1a79f-a721-4ff2-b585-88834b82314a",
   "metadata": {},
   "outputs": [
    {
     "name": "stdout",
     "output_type": "stream",
     "text": [
      "1.0\n",
      "1.25\n",
      "0\n",
      "0.0\n"
     ]
    }
   ],
   "source": [
    "def safe_division(numerator, denominator):\n",
    "    # Complete the if block to catch any \"denominator\" variables\n",
    "    # that are equal to 0.\n",
    "    if denominator == 0:\n",
    "        result = 0\n",
    "    else:\n",
    "        # Complete the division equation.\n",
    "        result = numerator / denominator\n",
    "    return result\n",
    "\n",
    "\n",
    "print(safe_division(5, 5)) # Should print 1.0\n",
    "print(safe_division(5, 4)) # Should print 1.25\n",
    "print(safe_division(5, 0)) # Should print 0\n",
    "print(safe_division(0, 5)) # Should print 0.0"
   ]
  }
 ],
 "metadata": {
  "kernelspec": {
   "display_name": "Python 3 (ipykernel)",
   "language": "python",
   "name": "python3"
  },
  "language_info": {
   "codemirror_mode": {
    "name": "ipython",
    "version": 3
   },
   "file_extension": ".py",
   "mimetype": "text/x-python",
   "name": "python",
   "nbconvert_exporter": "python",
   "pygments_lexer": "ipython3",
   "version": "3.12.7"
  }
 },
 "nbformat": 4,
 "nbformat_minor": 5
}
