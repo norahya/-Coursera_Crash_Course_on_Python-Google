{
 "cells": [
  {
   "cell_type": "markdown",
   "id": "ab570737-d11b-4f66-9881-34b1680dc07b",
   "metadata": {},
   "source": [
    "# Module 3 Code Exercises"
   ]
  },
  {
   "cell_type": "markdown",
   "id": "204b0b7f-5469-4ec5-a667-5f065459a7cf",
   "metadata": {},
   "source": [
    "---\n",
    "## Practice Quiz: While loops"
   ]
  },
  {
   "cell_type": "markdown",
   "id": "5e350abb-7290-4286-9b5c-8f8cc6212f88",
   "metadata": {},
   "source": [
    "### Question 3\n",
    "The following code contains an infinite loop, meaning the Python interpreter does not know when to exit the loop once the task is complete. To solve the problem, you will need to:  \n",
    "\n",
    "    1. Find the error in the code\n",
    "    2. Fix the while loop so there is an exit condition  \n",
    "    \n",
    "Hint: Try running your function with the number 0 as the input and observe the result.\n",
    "\n",
    "Note that Coursera’s code blocks will time out after 5 seconds of running an infinite loop. If you get this timeout error message, it means the infinite loop has not been fixed. "
   ]
  },
  {
   "cell_type": "code",
   "execution_count": 4,
   "id": "3f11848e-77ae-45e5-a8bd-ac96688bf998",
   "metadata": {},
   "outputs": [
    {
     "name": "stdout",
     "output_type": "stream",
     "text": [
      "False\n",
      "True\n",
      "True\n",
      "False\n"
     ]
    }
   ],
   "source": [
    "def is_power_of_two(number):\n",
    "  # This while loop checks if the \"number\" can be divided by two\n",
    "  # without leaving a remainder. How can you change the while loop to\n",
    "  # avoid a Python ZeroDivisionError?\n",
    "  while number % 2 == 0:\n",
    "    number = number / 2\n",
    "    if number == 0:\n",
    "      break\n",
    "  # If after dividing by 2 \"number\" equals 1, then \"number\" is a power\n",
    "  # of 2.\n",
    "  if number == 1:\n",
    "    return True\n",
    "  return False\n",
    "  \n",
    "# Calls to the function\n",
    "print(is_power_of_two(0)) # Should be False\n",
    "print(is_power_of_two(1)) # Should be True\n",
    "print(is_power_of_two(8)) # Should be True\n",
    "print(is_power_of_two(9)) # Should be False"
   ]
  },
  {
   "cell_type": "markdown",
   "id": "ca560bf3-2008-4198-a21c-752db5473752",
   "metadata": {},
   "source": [
    "### Question 4  \n",
    "Write a function that takes an argument n and returns the sum of integers from 1 to n. For example, if n=5, your function should add up 1+2+3+4+5 and return 15. If n is less than 1, just return 0. Use a while loop to calculate this sum."
   ]
  },
  {
   "cell_type": "code",
   "execution_count": 5,
   "id": "fdcc3efc-abe8-4f83-862d-30938d888127",
   "metadata": {},
   "outputs": [
    {
     "name": "stdout",
     "output_type": "stream",
     "text": [
      "6\n",
      "10\n",
      "15\n"
     ]
    }
   ],
   "source": [
    "def sum_of_integers(n):\n",
    "  if n < 1:\n",
    "    return 0\n",
    "\n",
    "\n",
    "  i = 1\n",
    "  sum = 0\n",
    "  while i <= n:\n",
    "    sum = sum + i\n",
    "    i = i + 1\n",
    "\n",
    "\n",
    "  return sum\n",
    "\n",
    "\n",
    "print(sum_of_integers(3))  # should print 6\n",
    "print(sum_of_integers(4))  # should print 10\n",
    "print(sum_of_integers(5))  # should print 15"
   ]
  },
  {
   "cell_type": "markdown",
   "id": "ee3f2d7d-b997-4adf-8559-b1e021d9c9bc",
   "metadata": {},
   "source": [
    "### Question 5  \n",
    "Fill in the blanks to complete the function, which should output a multiplication table. The function accepts a variable “number” through its parameters. This “number” variable should be multiplied by the numbers 1 through 5, and printed in a format similar to “1x6=6” (“number” x “multiplier” = “result”). The code should also limit the “result” to not exceed 25. To satisfy these conditions, you will need to:\n",
    "\n",
    "    1. Initialize the “multiplier\" variable with the starting value\n",
    "    2. Complete the while loop condition\n",
    "    3. Add an exit point for the loop\n",
    "    4. Increment the “multiplier\" variable inside the while loop"
   ]
  },
  {
   "cell_type": "code",
   "execution_count": 7,
   "id": "f3735142-3919-467a-8cd1-2019980a8dd3",
   "metadata": {},
   "outputs": [
    {
     "name": "stdout",
     "output_type": "stream",
     "text": [
      "3x1=3\n",
      "3x2=6\n",
      "3x3=9\n",
      "3x4=12\n",
      "3x5=15\n",
      "5x1=5\n",
      "5x2=10\n",
      "5x3=15\n",
      "5x4=20\n",
      "5x5=25\n",
      "8x1=8\n",
      "8x2=16\n",
      "8x3=24\n"
     ]
    }
   ],
   "source": [
    "def multiplication_table(number):\n",
    "    # Initialize the appropriate variable\n",
    "    i = 1\n",
    "\n",
    "\n",
    "    # Complete the while loop condition.\n",
    "    while i <= 5:\n",
    "        result = number * i \n",
    "        if  result > 25:\n",
    "            # Enter the action to take if the result > 25\n",
    "            break\n",
    "        print(str(number) + \"x\" + str(i) + \"=\" + str(result))\n",
    "        \n",
    "        # Increment the appropriate variable\n",
    "        i += 1\n",
    "\n",
    "\n",
    "\n",
    "\n",
    "multiplication_table(3) \n",
    "# Should print: \n",
    "# 3x1=3 \n",
    "# 3x2=6 \n",
    "# 3x3=9 \n",
    "# 3x4=12 \n",
    "# 3x5=15\n",
    "\n",
    "\n",
    "multiplication_table(5) \n",
    "# Should print: \n",
    "# 5x1=5\n",
    "# 5x2=10\n",
    "# 5x3=15\n",
    "# 5x4=20\n",
    "# 5x5=25\n",
    "\n",
    "\n",
    "multiplication_table(8) \n",
    "# Should print:\n",
    "# 8x1=8\n",
    "# 8x2=16\n",
    "# 8x3=24"
   ]
  },
  {
   "cell_type": "markdown",
   "id": "5a69202a-8acb-4dfb-8b8b-19ba7b6f116e",
   "metadata": {},
   "source": [
    "---\n",
    "## Practice Quiz: For Loops"
   ]
  },
  {
   "cell_type": "markdown",
   "id": "87eaf69e-abb4-42d5-9b13-d0618fbccc09",
   "metadata": {},
   "source": [
    "### Exercise 4 \n",
    "Fill in the blanks so that the for loop will print the first 10 cube numbers (x**3) in a range that starts with x=1 and ends with x=10."
   ]
  },
  {
   "cell_type": "code",
   "execution_count": 8,
   "id": "9289625c-df03-4811-a5a1-42f803ce0f24",
   "metadata": {},
   "outputs": [
    {
     "name": "stdout",
     "output_type": "stream",
     "text": [
      "1\n",
      "8\n",
      "27\n",
      "64\n",
      "125\n",
      "216\n",
      "343\n",
      "512\n",
      "729\n",
      "1000\n"
     ]
    }
   ],
   "source": [
    "for i in range(1, 11):\n",
    "  print(i**3)"
   ]
  },
  {
   "cell_type": "markdown",
   "id": "89f21e83-c93d-4bcd-b083-cdeeb4d82168",
   "metadata": {},
   "source": [
    "### Exercice 5\n",
    "Write a for loop with a three parameter range() function that prints the multiples of 7 between 0 and 100. Print one multiple per line and avoid printing any numbers that aren't multiples of 7. Remember that 0 is also a multiple of 7. "
   ]
  },
  {
   "cell_type": "code",
   "execution_count": 9,
   "id": "285297be-dd64-48a1-8ff0-3aa181da0035",
   "metadata": {},
   "outputs": [
    {
     "name": "stdout",
     "output_type": "stream",
     "text": [
      "0\n",
      "7\n",
      "14\n",
      "21\n",
      "28\n",
      "35\n",
      "42\n",
      "49\n",
      "56\n",
      "63\n",
      "70\n",
      "77\n",
      "84\n",
      "91\n",
      "98\n"
     ]
    }
   ],
   "source": [
    "for i in range(0, 100, 7): \n",
    "    print(i)"
   ]
  },
  {
   "cell_type": "markdown",
   "id": "696589c1-f8e0-44f5-be8d-0e0ac9618c3b",
   "metadata": {},
   "source": [
    "---\n",
    "## Practice Quiz: Recursion"
   ]
  },
  {
   "cell_type": "markdown",
   "id": "6142eeb0-b5a5-49ca-8aea-edd657e85e06",
   "metadata": {},
   "source": [
    "### Exercise 3\n",
    "Fill in the blanks to make the is_power_of function return whether the number is a power of the given base. Note: base is assumed to be a positive number. Tip: for functions that return a boolean value, you can return the result of a comparison."
   ]
  },
  {
   "cell_type": "code",
   "execution_count": 10,
   "id": "77a2d45a-1a38-4639-96ab-de8a6b2a6f44",
   "metadata": {},
   "outputs": [
    {
     "name": "stdout",
     "output_type": "stream",
     "text": [
      "True\n",
      "True\n",
      "False\n"
     ]
    }
   ],
   "source": [
    "def is_power_of(number, base):\n",
    " # Base case: when number is smaller than base.\n",
    "    if number < base:\n",
    "        # If number is equal to 1, it's a power (base**0).\n",
    "        return number == 1\n",
    "\n",
    "    # Recursive case: keep dividing number by base.\n",
    "    return is_power_of(number / base, base)\n",
    "\n",
    "\n",
    "print(is_power_of(8,2))     # Should be True\n",
    "print(is_power_of(64,4))    # Should be True\n",
    "print(is_power_of(70,10))   # Should be False"
   ]
  },
  {
   "cell_type": "markdown",
   "id": "47e75da4-67be-4648-af3d-4aa300048cf4",
   "metadata": {},
   "source": [
    "### Exercise 4\n",
    "Recursion is a process where a function calls itself one or more times with modified values to accomplish a task. This technique can be particularly effective when solving complex problems that can be broken down into smaller, simpler problems of the same type. In the provided code, the count_users function uses recursion to count the number of users that belong to a group within a company's system. It does this by iterating through each member of a group, and if a member is another group, it recursively calls count_users to count the users within that subgroup. However, there is a bug in the code! Can you spot the problem and fix it?"
   ]
  },
  {
   "cell_type": "code",
   "execution_count": null,
   "id": "f8972e4e-073f-491c-ad6f-a07b6811e7af",
   "metadata": {},
   "outputs": [],
   "source": [
    "def count_users(group):\n",
    "  count = 0\n",
    "  for member in get_members(group):\n",
    "    if is_group(member):\n",
    "      count += count_users(member)\n",
    "    else:\n",
    "      count += 1\n",
    "  return count\n",
    "\n",
    "\n",
    "print(count_users(\"sales\")) # Should be 3\n",
    "print(count_users(\"engineering\")) # Should be 8\n",
    "print(count_users(\"everyone\")) # Should be 18"
   ]
  },
  {
   "cell_type": "markdown",
   "id": "7a891a08-2276-4e15-ba1e-3b4e9c2044d0",
   "metadata": {},
   "source": [
    "### Exercise 5\n",
    "In the while loops practice quiz, you were asked to write a function to calculate the sum of all positive numbers between 1 and n. Rewrite the function using recursion instead of a while loop. Remember that when n is less than 1, the function should return 0 as the answer."
   ]
  },
  {
   "cell_type": "code",
   "execution_count": 12,
   "id": "dbdbd3f4-52ae-4cea-8d22-3cc14e3b5436",
   "metadata": {},
   "outputs": [
    {
     "name": "stdout",
     "output_type": "stream",
     "text": [
      "6\n",
      "15\n"
     ]
    }
   ],
   "source": [
    "def sum_positive_numbers(n):\n",
    "    if n < 1:\n",
    "        return 0\n",
    "    return n + sum_positive_numbers(n - 1)\n",
    "\n",
    "\n",
    "print(sum_positive_numbers(3)) # Should be 6\n",
    "print(sum_positive_numbers(5)) # Should be 15"
   ]
  },
  {
   "cell_type": "markdown",
   "id": "515c17e5-7510-4d97-9c00-3537d828fb1d",
   "metadata": {},
   "source": [
    "---\n",
    "\n",
    "## Module 3 Graded Assessment"
   ]
  },
  {
   "cell_type": "markdown",
   "id": "0a266808-e2fd-4502-90e7-5755e019a31a",
   "metadata": {},
   "source": [
    "### Exercise 1\n",
    "Fill in the blanks to print the numbers from 15 to 5, counting down by fives."
   ]
  },
  {
   "cell_type": "code",
   "execution_count": 14,
   "id": "66f48f13-1cd3-4262-b11b-179fdf4e9935",
   "metadata": {},
   "outputs": [
    {
     "name": "stdout",
     "output_type": "stream",
     "text": [
      "15 10 5 "
     ]
    }
   ],
   "source": [
    "number = 15 # Initialize the variable\n",
    "while number >= 5: # Complete the while loop condition\n",
    "    print(number, end=\" \")\n",
    "    number = number - 5 # Increment the variable\n",
    "\n",
    "# Should print 15 10 5 "
   ]
  },
  {
   "cell_type": "markdown",
   "id": "bf575d26-5caa-43ee-80ca-9a4051cbeac8",
   "metadata": {},
   "source": [
    "### Exercise 2\n",
    "Find and correct the error in the for loop.  The loop should print every number from 5 to 0 in descending order."
   ]
  },
  {
   "cell_type": "code",
   "execution_count": 15,
   "id": "b32940e9-4f46-4365-957d-ee82804168a1",
   "metadata": {},
   "outputs": [
    {
     "name": "stdout",
     "output_type": "stream",
     "text": [
      "5\n",
      "4\n",
      "3\n",
      "2\n",
      "1\n",
      "0\n"
     ]
    }
   ],
   "source": [
    "for number in range(5,-1,-1):\n",
    "    print(number)\n",
    "\n",
    "# Should print:\n",
    "# 5\n",
    "# 4\n",
    "# 3\n",
    "# 2\n",
    "# 1\n",
    "# 0"
   ]
  },
  {
   "cell_type": "markdown",
   "id": "7bb7525b-226d-4b32-8345-f5612b0a8f6b",
   "metadata": {},
   "source": [
    "### Exercise 3\n",
    "Fill in the blanks to complete the function “even_numbers(n)”. This function should count how many even numbers exist in a sequence from 0 to the given “n”number, where 0 counts as an even number.  For example, even_numbers(25) should return 13, and even_numbers(6) should return 4."
   ]
  },
  {
   "cell_type": "code",
   "execution_count": 16,
   "id": "ad755b4e-d1c2-46ba-a1aa-faa91ff98e1d",
   "metadata": {},
   "outputs": [
    {
     "name": "stdout",
     "output_type": "stream",
     "text": [
      "13\n",
      "73\n",
      "501\n",
      "1\n"
     ]
    }
   ],
   "source": [
    "def even_numbers(n):\n",
    "    count = 0\n",
    "    current_number = n\n",
    "    while current_number >= 0: # Complete the while loop condition\n",
    "        if current_number % 2 == 0:\n",
    "            count = count + 1 # Increment the appropriate variable\n",
    "        current_number = current_number - 1 # Increment the appropriate variable\n",
    "    return count\n",
    "    \n",
    "print(even_numbers(25))   # Should print 13\n",
    "print(even_numbers(144))  # Should print 73\n",
    "print(even_numbers(1000)) # Should print 501\n",
    "print(even_numbers(0))    # Should print 1"
   ]
  },
  {
   "cell_type": "markdown",
   "id": "a91b74e5-0f19-494b-92d1-c52f8ac61f64",
   "metadata": {},
   "source": [
    "### Exercise 4\n",
    "Question 4\n",
    "Fill in the blanks to complete the “rows_asterisks” function. This function should print rows of asterisks (*), where the number of rows is equal to the “rows” variable. The number of asterisks per row should correspond to the row number (row 1 should have 1 asterisk, row 2 should have 2 asterisks, etc.). Complete the code so that “row_asterisks(5)” will print:\n",
    "\n",
    "\\*  \n",
    "\\* \\*  \n",
    "\\* \\* \\*  \n",
    "\\* \\* \\* \\*  \n",
    "\\* \\* \\* \\* \\*"
   ]
  },
  {
   "cell_type": "code",
   "execution_count": 17,
   "id": "5a793bc6-a1af-4952-ade8-c9aac6eae7c4",
   "metadata": {},
   "outputs": [
    {
     "name": "stdout",
     "output_type": "stream",
     "text": [
      "* \n",
      "* * \n",
      "* * * \n",
      "* * * * \n",
      "* * * * * \n"
     ]
    }
   ],
   "source": [
    "def rows_asterisks(rows):\n",
    "    # Complete the outer loop range to control the number of rows\n",
    "    for x in range(rows): \n",
    "        # Complete the inner loop range to control the number of \n",
    "        # asterisks per row\n",
    "        for y in range(x+1): \n",
    "            # Prints one asterisk and one space\n",
    "            print(\"*\", end=\" \")\n",
    "        # An empty print() function inserts a line break at the \n",
    "        # end of the row \n",
    "        print()\n",
    "\n",
    "\n",
    "rows_asterisks(5)\n",
    "# Should print the asterisk rows shown above"
   ]
  },
  {
   "cell_type": "markdown",
   "id": "a12078ec-33d8-4f43-b2dd-9e118a3d4bfe",
   "metadata": {},
   "source": [
    "### Exercise 5\n",
    "Fill in the blanks to complete the “divisible” function. This function should count the number of values from 0 to the “max” parameter minus 1 that are evenly divisible by the “divisor” parameter. This means they do not have a remainder when divided by the divisor. Complete the code so that a function call like “divisible(100,10)” will return the number “10”."
   ]
  },
  {
   "cell_type": "code",
   "execution_count": 18,
   "id": "84d967a4-480f-42a0-8c72-ff0fadba51a4",
   "metadata": {},
   "outputs": [
    {
     "name": "stdout",
     "output_type": "stream",
     "text": [
      "10\n",
      "4\n",
      "9\n"
     ]
    }
   ],
   "source": [
    "def divisible(max, divisor):\n",
    "    count = 0 # Initialize an incremental variable\n",
    "    for x in range(max): # Complete the for loop\n",
    "        if x % divisor == 0:\n",
    "            count = count + 1 # Increment the appropriate variable\n",
    "    return count\n",
    "\n",
    "print(divisible(100, 10)) # Should be 10\n",
    "print(divisible(10, 3)) # Should be 4\n",
    "print(divisible(144, 17)) # Should be 9"
   ]
  },
  {
   "cell_type": "markdown",
   "id": "7a2f4ec1-a09e-4623-9878-dfee722e4dd3",
   "metadata": {},
   "source": [
    "### Exercise 6\n",
    "Fill in the blanks to complete the “even_numbers” function. This function should return a space-separated string of all positive even numbers, excluding 0, up to and including the “maximum” variable that's passed into the function. Complete the for loop so that a function call like “even_numbers(6)” will return the numbers “2 4 6”.  "
   ]
  },
  {
   "cell_type": "code",
   "execution_count": 19,
   "id": "8fa73b47-33e1-4fab-b651-3eb9b63cddff",
   "metadata": {},
   "outputs": [
    {
     "name": "stdout",
     "output_type": "stream",
     "text": [
      "2 4 6\n",
      "2 4 6 8 10\n",
      "\n",
      "2\n",
      "\n"
     ]
    }
   ],
   "source": [
    "def even_numbers(maximum):\n",
    "\n",
    "    return_string = \"\" # Initializes variable as a string\n",
    "\n",
    "    # Complete the for loop with a range that includes all even numbers\n",
    "    # up to and including the \"maximum\" value, but excluding 0.\n",
    "    for x in range(2, maximum+1, 2): \n",
    "\n",
    "        # Complete the body of the loop by appending the even number\n",
    "        # followed by a space to the \"return_string\" variable.\n",
    "        return_string = return_string + str(x) + \" \"\n",
    "\n",
    "    # This .strip command will remove the final \" \" space at the end of\n",
    "    # the \"return_string\".\n",
    "    return return_string.strip() \n",
    "\n",
    "print(even_numbers(6))  # Should be 2 4 6\n",
    "print(even_numbers(10)) # Should be 2 4 6 8 10\n",
    "print(even_numbers(1))  # No numbers displayed\n",
    "print(even_numbers(3))  # Should be 2\n",
    "print(even_numbers(0))  # No numbers displayed"
   ]
  }
 ],
 "metadata": {
  "kernelspec": {
   "display_name": "Python 3 (ipykernel)",
   "language": "python",
   "name": "python3"
  },
  "language_info": {
   "codemirror_mode": {
    "name": "ipython",
    "version": 3
   },
   "file_extension": ".py",
   "mimetype": "text/x-python",
   "name": "python",
   "nbconvert_exporter": "python",
   "pygments_lexer": "ipython3",
   "version": "3.12.7"
  }
 },
 "nbformat": 4,
 "nbformat_minor": 5
}
