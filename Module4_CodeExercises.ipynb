{
 "cells": [
  {
   "cell_type": "markdown",
   "id": "669c6a5a-b37c-4a84-8e8e-83d5078b8a8f",
   "metadata": {},
   "source": [
    "# Module 4 Code Exercises"
   ]
  },
  {
   "cell_type": "markdown",
   "id": "9eb027b6-129a-4773-b7f7-5e49ae2f5b33",
   "metadata": {},
   "source": [
    "---\n",
    "## Practice Quiz: Strings"
   ]
  },
  {
   "cell_type": "markdown",
   "id": "e3af5238-0bef-47e5-a99b-acf16123ffa1",
   "metadata": {},
   "source": [
    "### Question 1\n",
    "Fill in the blanks to complete the is_palindrome function. This function checks if a given string is a palindrome. A palindrome is a string that contains the same letters in the same order, whether the word is read from left to right or right to left. Examples of palindromes are words like kayak and radar, and phrases like \"Never Odd or Even\". The function should ignore blank spaces and capitalization when checking if the given string is a palindrome. Complete this function to return True if the passed string is a palindrome, False if not."
   ]
  },
  {
   "cell_type": "code",
   "execution_count": 2,
   "id": "5eb620fa-70ad-4fd4-b367-f7cc6ebfaaa8",
   "metadata": {},
   "outputs": [
    {
     "name": "stdout",
     "output_type": "stream",
     "text": [
      "True\n",
      "False\n",
      "True\n"
     ]
    }
   ],
   "source": [
    "def is_palindrome(input_string):\n",
    "    # Two variables are initialized as string date types using empty \n",
    "    # quotes: \"reverse_string\" to hold the \"input_string\" in reverse\n",
    "    # order and \"new_string\" to hold the \"input_string\" minus the \n",
    "    # spaces between words, if any are found.\n",
    "    new_string = \"\"\n",
    "    reverse_string = \"\"\n",
    "\n",
    "    # Complete the for loop to iterate through each letter of the\n",
    "    # \"input_string\"\n",
    "    for letter in input_string:\n",
    "\n",
    "        # The if-statement checks if the \"letter\" is not a space.\n",
    "        if letter != \" \":\n",
    "\n",
    "            # If True, add the \"letter\" to the end of \"new_string\" and\n",
    "            # to the front of \"reverse_string\". If False (if a space\n",
    "            # is detected), no action is needed. Exit the if-block.\n",
    "            new_string = new_string + letter\n",
    "            reverse_string = letter + reverse_string\n",
    "\n",
    "    # Complete the if-statement to compare the \"new_string\" to the\n",
    "    # \"reverse_string\". Remember that Python is case-sensitive when\n",
    "    # creating the string comparison code. \n",
    "    if new_string.lower() == reverse_string.lower():\n",
    "\n",
    "        # If True, the \"input_string\" contains a palindrome.\n",
    "        return True\n",
    "\t\t\n",
    "    # Otherwise, return False.\n",
    "    return False\n",
    "\n",
    "\n",
    "print(is_palindrome(\"Never Odd or Even\")) # Should be True\n",
    "print(is_palindrome(\"abc\")) # Should be False\n",
    "print(is_palindrome(\"kayak\")) # Should be True"
   ]
  },
  {
   "cell_type": "markdown",
   "id": "16a8e773-2485-4844-b8e0-7e6d33baca97",
   "metadata": {},
   "source": [
    "### Question 2\n",
    "Using the format method, fill in the gaps in the convert_distance function so that it returns the phrase \"X miles equals Y km\", with Y having only 1 decimal place. For example, convert_distance(12) should return \"12 miles equals 19.2 km\"."
   ]
  },
  {
   "cell_type": "code",
   "execution_count": 3,
   "id": "3e1274c2-0641-43dc-8afc-296bd315a53e",
   "metadata": {},
   "outputs": [
    {
     "name": "stdout",
     "output_type": "stream",
     "text": [
      "12 miles equals 19.2 km\n",
      "5.5 miles equals 8.8 km\n",
      "11 miles equals 17.6 km\n"
     ]
    }
   ],
   "source": [
    "def convert_distance(miles):\n",
    "    km = miles * 1.6 \n",
    "    result = \"{} miles equals {:.1f} km\".format(miles, km)\n",
    "    return result\n",
    "\n",
    "\n",
    "print(convert_distance(12)) # Should be: 12 miles equals 19.2 km\n",
    "print(convert_distance(5.5)) # Should be: 5.5 miles equals 8.8 km\n",
    "print(convert_distance(11)) # Should be: 11 miles equals 17.6 km"
   ]
  },
  {
   "cell_type": "markdown",
   "id": "3da905f0-9e1f-4b6b-9a45-5698980ebd09",
   "metadata": {},
   "source": [
    "### Question 4\n",
    "Fill in the gaps in the nametag function so that it uses the format method to return first_name and the first initial of last_name followed by a period. For example, nametag(\"Jane\", \"Smith\") should return \"Jane S.\""
   ]
  },
  {
   "cell_type": "code",
   "execution_count": 4,
   "id": "42fc5332-a7b8-4a66-90e1-471c37f088c1",
   "metadata": {},
   "outputs": [
    {
     "name": "stdout",
     "output_type": "stream",
     "text": [
      "Jane S.\n",
      "Francesco R.\n",
      "Jean-Luc G.\n"
     ]
    }
   ],
   "source": [
    "def nametag(first_name, last_name):\n",
    "    return(\"{} {}.\".format(first_name, last_name[:1]))\n",
    "\n",
    "\n",
    "print(nametag(\"Jane\", \"Smith\")) \n",
    "# Should display \"Jane S.\" \n",
    "print(nametag(\"Francesco\", \"Rinaldi\")) \n",
    "# Should display \"Francesco R.\" \n",
    "print(nametag(\"Jean-Luc\", \"Grand-Pierre\")) \n",
    "# Should display \"Jean-Luc G.\" "
   ]
  },
  {
   "cell_type": "markdown",
   "id": "ac9a233e-1709-4979-b0a8-62026bcb78e4",
   "metadata": {},
   "source": [
    "### Question 5\n",
    "The replace_ending function replaces a specified substring at the end of a given sentence with a new substring. If the specified substring does not appear at the end of the given sentence, no action is performed and the original sentence is returned. If there is more than one occurrence of the specified substring in the sentence, only the substring at the end of the sentence is replaced. For example, replace_ending(\"abcabc\", \"abc\", \"xyz\") should return abcxyz, not xyzxyz or xyzabc. The string comparison is case-sensitive, so replace_ending(\"abcabc\", \"ABC\", \"xyz\") should return abcabc (no changes made).  "
   ]
  },
  {
   "cell_type": "code",
   "execution_count": 5,
   "id": "2ecc2108-108f-413c-a150-a2c9341cbc91",
   "metadata": {},
   "outputs": [
    {
     "name": "stdout",
     "output_type": "stream",
     "text": [
      "It's raining cats and dogs\n",
      "She sells seashells by the seashore\n",
      "The weather is nice in May\n",
      "The weather is nice in April\n"
     ]
    }
   ],
   "source": [
    "def replace_ending(sentence, old, new):\n",
    "    # Check if the old substring is at the end of the sentence \n",
    "    if old in sentence[-len(old):]:\n",
    "        # Using i as the slicing index, combine the part\n",
    "        # of the sentence up to the matched string at the \n",
    "        # end with the new string\n",
    "        i = sentence.rfind(old)\n",
    "        new_sentence = sentence[:i] + new\n",
    "        return new_sentence\n",
    "\n",
    "\n",
    "    # Return the original sentence if there is no match \n",
    "    return sentence\n",
    "    \n",
    "print(replace_ending(\"It's raining cats and cats\", \"cats\", \"dogs\")) \n",
    "# Should display \"It's raining cats and dogs\"\n",
    "print(replace_ending(\"She sells seashells by the seashore\", \"seashells\", \"donuts\")) \n",
    "# Should display \"She sells seashells by the seashore\"\n",
    "print(replace_ending(\"The weather is nice in May\", \"may\", \"april\")) \n",
    "# Should display \"The weather is nice in May\"\n",
    "print(replace_ending(\"The weather is nice in May\", \"May\", \"April\")) \n",
    "# Should display \"The weather is nice in April\"\n"
   ]
  },
  {
   "cell_type": "markdown",
   "id": "ed6f73c4-dc7e-49c7-951b-03b6e2632c6b",
   "metadata": {},
   "source": [
    "---\n",
    "## Practice Quiz: Lists"
   ]
  },
  {
   "cell_type": "markdown",
   "id": "92ba3508-01eb-4bb4-bc52-0bd78625413d",
   "metadata": {},
   "source": [
    "### Question 1\n",
    "Fill in the blank using a for loop. With the given list of \"filenames\", this code should rename all files with the extension .hpp to the extension .h. The code  should then generate a new list called \"new_filenames\" that contains the file names with the new extension.\n",
    "\n",
    "You are given a list of filenames like this:\n",
    "\n",
    "filenames = [\"program.c\", \"stdio.hpp\", \"sample.hpp\", \"a.out\", \"math.hpp\", \"hpp.out\"]\n",
    "\n",
    "Output the list with all of the “.hpp” files renamed to “.h”. Leave the other filenames alone. For this question, you must use a for loop to create the list. "
   ]
  },
  {
   "cell_type": "code",
   "execution_count": 8,
   "id": "dcf76b21-0e42-4870-abc7-0b3dfb902efa",
   "metadata": {},
   "outputs": [
    {
     "name": "stdout",
     "output_type": "stream",
     "text": [
      "['program.c', 'stdio.h', 'sample.h', 'a.out', 'math.h', 'hpp.out']\n"
     ]
    }
   ],
   "source": [
    "filenames = [\"program.c\", \"stdio.hpp\", \"sample.hpp\", \"a.out\", \"math.hpp\", \"hpp.out\"]\n",
    "# Generate new_filenames as a list containing the new filenames\n",
    "# using as many lines of code as your chosen method requires.\n",
    "\n",
    "\n",
    "new_filenames = []\n",
    "for filename in filenames:\n",
    "    if filename.endswith(\"hpp\"):\n",
    "        new_filenames.append(filename.replace(\"hpp\", \"h\"))\n",
    "    else:\n",
    "        new_filenames.append(filename)\n",
    "\n",
    "\n",
    "print(new_filenames)\n",
    "# Should be [\"program.c\", \"stdio.h\", \"sample.h\", \"a.out\", \"math.h\", \"hpp.out\"]"
   ]
  },
  {
   "cell_type": "markdown",
   "id": "3d83327b-f457-444b-a0ae-98060eb08380",
   "metadata": {},
   "source": [
    "### Question 2\n",
    "Fill in the blank using a list comprehension. With the given list of \"filenames\", this code should rename all files with the extension .hpp to the extension .h. The code function should then generate a new list called \"new_filenames\" that contains the filenames with the new extension.\n",
    "\n",
    "You are given a list of filenames like this:\n",
    "\n",
    "filenames = [\"program.c\", \"stdio.hpp\", \"sample.hpp\", \"a.out\", \"math.hpp\", \"hpp.out\"]\n",
    "\n",
    "Output the list with all of the “.hpp” files renamed to “.h”. Leave the other filenames alone. For this question, you must use list comprehension to create the list. "
   ]
  },
  {
   "cell_type": "code",
   "execution_count": 9,
   "id": "0a42f881-a946-4b0d-a7d4-8529ce13e7e8",
   "metadata": {},
   "outputs": [
    {
     "name": "stdout",
     "output_type": "stream",
     "text": [
      "['program.c', 'stdio.h', 'sample.h', 'a.out', 'math.h', 'hpp.out']\n"
     ]
    }
   ],
   "source": [
    "filenames = [\"program.c\", \"stdio.hpp\", \"sample.hpp\", \"a.out\", \"math.hpp\", \"hpp.out\"]\n",
    "# Generate new_filenames as a list containing the new filenames\n",
    "# using as many lines of code as your chosen method requires.\n",
    "new_filenames = [filename.replace(\"hpp\", \"h\") if filename.endswith(\"hpp\") else filename for filename in filenames]  # Start your code here\n",
    "\n",
    "\n",
    "print(new_filenames) \n",
    "# Should print [\"program.c\", \"stdio.h\", \"sample.h\", \"a.out\", \"math.h\", \"hpp.out\"]"
   ]
  },
  {
   "cell_type": "markdown",
   "id": "c53298e8-e4e0-459d-9d65-1292608d8afa",
   "metadata": {},
   "source": [
    "### Question 3\n",
    "Create a function that turns text into pig latin. Pig latin is a simple text transformation that modifies each word by:\n",
    "\n",
    "    1. moving the first character to the end of each word;\n",
    "    2. then appending the letters \"ay\" to the end of each word.\n",
    "\n",
    "For example, python ends up as ythonpay."
   ]
  },
  {
   "cell_type": "code",
   "execution_count": 10,
   "id": "2f970fc5-0e82-4ddc-86f7-6b1df76b71b7",
   "metadata": {},
   "outputs": [
    {
     "name": "stdout",
     "output_type": "stream",
     "text": [
      "ellohay owhay reaay ouyay\n",
      "rogrammingpay niay ythonpay siay unfay\n"
     ]
    }
   ],
   "source": [
    "def pig_latin(text):\n",
    "  say = []\n",
    "  # Separate the text into words\n",
    "  words = text.split(' ')\n",
    "  for word in words:\n",
    "    # Create the pig latin word and add it to the list\n",
    "    say.append(word[1:]+word[0]+\"ay\")\n",
    "    # Turn the list back into a phrase\n",
    "  return \" \".join(say)\n",
    "    \n",
    "print(pig_latin(\"hello how are you\")) # Should be \"ellohay owhay reaay ouyay\"\n",
    "print(pig_latin(\"programming in python is fun\")) # Should be \"rogrammingpay niay ythonpay siay unfay"
   ]
  },
  {
   "cell_type": "markdown",
   "id": "b4aec2a8-327f-4158-914e-cc5232ed8768",
   "metadata": {},
   "source": [
    "### Question 6\n",
    "Fill in the blanks to complete the “biography_list” function. The “biography_list” function reads in a list of tuples “people”, which contains the name, age, and profession of each “person”. Then, prints the sentence \"__ is _ years old and works as __.\". For example, “biography_list([(\"Ira\", 30, \"a Chef\")])” should print: “Ira is 30 years old and works as a Chef.” "
   ]
  },
  {
   "cell_type": "code",
   "execution_count": 11,
   "id": "ce067e11-b557-4145-9263-2a146bc98ead",
   "metadata": {},
   "outputs": [
    {
     "name": "stdout",
     "output_type": "stream",
     "text": [
      "Ira is 30 years old and works as a Chef\n",
      "Raj is 35 years old and works as a Lawyer\n",
      "Maria is 25 years old and works as an Engineer\n"
     ]
    }
   ],
   "source": [
    "def biography_list(people):\n",
    "    # Iterate over each \"person\" in the given \"people\" list of tuples. \n",
    "    for (name, age, profession) in people:\n",
    "        # Format the required sentence and place the 3 variables \n",
    "        # in the correct placeholders using the .format() method.\n",
    "        print(\"{} is {} years old and works as {}\".format(name, age, profession))\n",
    "\n",
    "\n",
    "\n",
    "\n",
    "# Call to the function:\n",
    "biography_list([(\"Ira\", 30, \"a Chef\"), (\"Raj\", 35, \"a Lawyer\"), (\"Maria\", 25, \"an Engineer\")])\n",
    "\n",
    "\n",
    "# Click Run to submit code\n",
    "\n",
    "\n",
    "# Output should match:\n",
    "# Ira is 30 years old and works as a Chef\n",
    "# Raj is 35 years old and works as a Lawyer\n",
    "# Maria is 25 years old and works as an Engineer"
   ]
  },
  {
   "cell_type": "markdown",
   "id": "5d5e2b44-be00-4e4f-98f0-d39384dd46ae",
   "metadata": {},
   "source": [
    "---\n",
    "## Practice Quiz: Dictionaries"
   ]
  },
  {
   "cell_type": "markdown",
   "id": "c5d1a1e4-dd9c-48a4-b494-881166d360c4",
   "metadata": {},
   "source": [
    "### Question 1\n",
    "The email_list function receives a dictionary, which contains domain names as keys, and a list of users as values. Fill in the blanks to generate a list that contains complete email addresses (e.g. diana.prince@gmail.com)."
   ]
  },
  {
   "cell_type": "code",
   "execution_count": 14,
   "id": "20953c80-ec98-40b7-ab55-40b9e74a24b8",
   "metadata": {},
   "outputs": [
    {
     "name": "stdout",
     "output_type": "stream",
     "text": [
      "['clark.kent@gmail.com', 'diana.prince@gmail.com', 'peter.parker@gmail.com', 'barbara.gordon@yahoo.com', 'jean.grey@yahoo.com', 'bruce.wayne@hotmail.com']\n"
     ]
    }
   ],
   "source": [
    "def email_list(domains):\n",
    "\temails = []\n",
    "\tfor domain, users in domains.items():\n",
    "\t  for user in users:\n",
    "\t    emails.append(user + \"@\" + domain)\n",
    "\treturn(emails)\n",
    "\n",
    "print(email_list({\"gmail.com\": [\"clark.kent\", \"diana.prince\", \"peter.parker\"], \"yahoo.com\": [\"barbara.gordon\", \"jean.grey\"], \"hotmail.com\": [\"bruce.wayne\"]}))"
   ]
  },
  {
   "cell_type": "markdown",
   "id": "8bddc92c-80f3-4566-9af1-dc6716abe574",
   "metadata": {},
   "source": [
    "### Question 2\n",
    "The groups_per_user function receives a dictionary, which contains group names with the list of users. Users can belong to multiple groups. Fill in the blanks to return a dictionary with the users as keys and a list of their groups as values. "
   ]
  },
  {
   "cell_type": "code",
   "execution_count": 15,
   "id": "34f30f67-4245-492b-ab1b-8b07dd63773d",
   "metadata": {},
   "outputs": [
    {
     "name": "stdout",
     "output_type": "stream",
     "text": [
      "{'admin': ['local', 'public', 'administrator'], 'userA': ['local'], 'userB': ['public']}\n"
     ]
    }
   ],
   "source": [
    "def groups_per_user(group_dictionary):\n",
    "\tuser_groups = {}\n",
    "\t# Go through group_dictionary\n",
    "\tfor group, users in group_dictionary.items():\n",
    "\t\t# Now go through the users in the group\n",
    "\t\tfor user in users:\n",
    "\t\t\tif user not in user_groups:\n",
    "\t\t\t\tuser_groups[user] = []\n",
    "\t\t\tuser_groups[user].append(group)\n",
    "\t\t\t# Now add the group to the the list of\n",
    "# groups for this user, creating the entry\n",
    "# in the dictionary if necessary\n",
    "\n",
    "\treturn(user_groups)\n",
    "\n",
    "print(groups_per_user({\"local\": [\"admin\", \"userA\"],\n",
    "\t\t\"public\":  [\"admin\", \"userB\"],\n",
    "\t\t\"administrator\": [\"admin\"] }))"
   ]
  },
  {
   "cell_type": "markdown",
   "id": "605194bc-d250-4e14-9c03-771954ea7596",
   "metadata": {},
   "source": [
    "### Question 5\n",
    "The add_prices function returns the total price of all of the groceries in the  dictionary. Fill in the blanks to complete this function."
   ]
  },
  {
   "cell_type": "code",
   "execution_count": 16,
   "id": "134b314c-2613-4c91-863a-ccfbf25735b9",
   "metadata": {},
   "outputs": [
    {
     "name": "stdout",
     "output_type": "stream",
     "text": [
      "28.44\n"
     ]
    }
   ],
   "source": [
    "def add_prices(basket):\n",
    "\t# Initialize the variable that will be used for the calculation\n",
    "\ttotal = 0\n",
    "\t# Iterate through the dictionary items\n",
    "\tfor price in basket.values():\n",
    "\t\t# Add each price to the total calculation\n",
    "\t\t# Hint: how do you access the values of\n",
    "\t\t# dictionary items?\n",
    "\t\ttotal += price\n",
    "\t# Limit the return value to 2 decimal places\n",
    "\treturn round(total, 2)  \n",
    "\n",
    "groceries = {\"bananas\": 1.56, \"apples\": 2.50, \"oranges\": 0.99, \"bread\": 4.59, \n",
    "\t\"coffee\": 6.99, \"milk\": 3.39, \"eggs\": 2.98, \"cheese\": 5.44}\n",
    "\n",
    "print(add_prices(groceries)) # Should print 28.44"
   ]
  },
  {
   "cell_type": "markdown",
   "id": "2fdfdeaa-d592-42db-ae37-9f140e73435b",
   "metadata": {},
   "source": [
    "---\n",
    "## Module 4 Graded Assessment"
   ]
  },
  {
   "cell_type": "markdown",
   "id": "f9e89f46-d2ee-43fb-bc31-95406b1a1bdf",
   "metadata": {},
   "source": [
    "### Question 1\n",
    "Fill in the blanks to complete the “confirm_length” function. This function should return how many characters a string contains as long as it has one or more characters, otherwise it will return 0. Complete the string operations needed in this function so that input like \"Monday\" will produce the output \"6\"."
   ]
  },
  {
   "cell_type": "code",
   "execution_count": 17,
   "id": "12b14709-44da-4a06-a312-ea549eab36a2",
   "metadata": {},
   "outputs": [
    {
     "name": "stdout",
     "output_type": "stream",
     "text": [
      "1\n",
      "21\n",
      "6\n",
      "0\n"
     ]
    }
   ],
   "source": [
    "def confirm_length(word):\n",
    "\n",
    "    # Complete the condition statement using a string operation. \n",
    "    if len(word) > 0:\n",
    "        # Complete the return statement using a string operation.\n",
    "        return len(word)\n",
    "    else:\n",
    "        return 0\n",
    "\n",
    "\n",
    "print(confirm_length(\"a\")) # Should print 1\n",
    "print(confirm_length(\"This is a long string\")) # Should print 21\n",
    "print(confirm_length(\"Monday\")) # Should print 6\n",
    "print(confirm_length(\"\")) # Should print 0"
   ]
  },
  {
   "cell_type": "markdown",
   "id": "43e94fd6-e598-4998-ad95-2a3c88e40415",
   "metadata": {},
   "source": [
    "### Question 2\n",
    "Fill in the blank to complete the “highlight_word” function. This function should change the given “word” to its upper-case version in a given “sentence”. Complete the string method needed in this function so that a function call like \"highlight_word(\"Have a nice day\", \"nice\")\" will return the output \"Have a NICE day\"."
   ]
  },
  {
   "cell_type": "code",
   "execution_count": 18,
   "id": "6b7b3cc3-88e0-4b12-a724-3900530c719c",
   "metadata": {},
   "outputs": [
    {
     "name": "stdout",
     "output_type": "stream",
     "text": [
      "Have a NICE day\n",
      "Shhh, don't be so LOUD!\n",
      "Automating with Python is FUN\n"
     ]
    }
   ],
   "source": [
    "def highlight_word(sentence, word):\n",
    "    # Complete the return statement using a string method.\n",
    "    return sentence.replace(word, word.upper())\n",
    "\n",
    "\n",
    "print(highlight_word(\"Have a nice day\", \"nice\"))\n",
    "# Should print: \"Have a NICE day\"\n",
    "print(highlight_word(\"Shhh, don't be so loud!\", \"loud\"))\n",
    "# Should print: \"Shhh, don't be so LOUD!\"\n",
    "print(highlight_word(\"Automating with Python is fun\", \"fun\"))\n",
    "# Should print: \"Automating with Python is FUN\""
   ]
  },
  {
   "cell_type": "markdown",
   "id": "617dd751-a038-4452-9eee-b45d7cb85039",
   "metadata": {},
   "source": [
    "### Question 3\n",
    "Consider the following scenario about using Python lists: \n",
    "\n",
    "Employees at a company shared  the distance they drive to work (in miles) through an online survey. These distances were automatically added by Python to a list called “distances” in the order that each employee submitted their distance. Management wants the list to be sorted in the order of the longest distance to the shortest distance. \n",
    "\n",
    "Complete the function to sort the “distances” list. This function should:\n",
    "\n",
    "1. sort the given “distances” list, passed through the function’s parameters; ; \n",
    "2. reverse the sort order so that it goes from the longest to the shortest distance;\n",
    "3. return the modified “distances” list."
   ]
  },
  {
   "cell_type": "code",
   "execution_count": 19,
   "id": "c7d4eaaf-3d37-487a-9d89-fdca294556d3",
   "metadata": {},
   "outputs": [
    {
     "name": "stdout",
     "output_type": "stream",
     "text": [
      "[15, 9, 8, 4, 2, 0]\n"
     ]
    }
   ],
   "source": [
    "def sort_distance(distances):\n",
    "    distances.sort() # Sort the list\n",
    "    distances.reverse() # Reverse the order of the list\n",
    "    return distances\n",
    "\n",
    "\n",
    "print(sort_distance([2,4,0,15,8,9]))\n",
    "# Should print [15, 9, 8, 4, 2, 0]"
   ]
  },
  {
   "cell_type": "markdown",
   "id": "57f32cc9-2280-430b-8552-c899f9960b04",
   "metadata": {},
   "source": [
    "### Question 4\n",
    "Fill in the blank to complete the “even_numbers” function. This function should use a list comprehension to create a list of even numbers using a conditional if statement with the modulo operator to test for numbers evenly divisible by 2. The function receives two variables and should return the list of even numbers that occur between the “first” and “last” variables exclusively (meaning don’t modify the default behavior of the range to exclude the “end” value in the range). For example, even_numbers(2, 7) should return [2, 4, 6].  "
   ]
  },
  {
   "cell_type": "code",
   "execution_count": 20,
   "id": "9b10cec3-6cd5-43af-809b-c8892198fff0",
   "metadata": {},
   "outputs": [
    {
     "name": "stdout",
     "output_type": "stream",
     "text": [
      "[4, 6, 8, 10, 12]\n",
      "[0, 2, 4, 6, 8]\n",
      "[2, 4, 6]\n"
     ]
    }
   ],
   "source": [
    "def even_numbers(first, last):\n",
    "  return [num for num in range(first, last) if num % 2 == 0]\n",
    "\n",
    "\n",
    "print(even_numbers(4, 14)) # Should print [4, 6, 8, 10, 12]\n",
    "print(even_numbers(0, 9))  # Should print [0, 2, 4, 6, 8]\n",
    "print(even_numbers(2, 7))  # Should print [2, 4, 6]"
   ]
  },
  {
   "cell_type": "markdown",
   "id": "5e2efdec-ff0e-4587-81b3-ac029d2ea327",
   "metadata": {},
   "source": [
    "### Question 5\n",
    "Fill in the blanks to complete the “car_listing” function. This function accepts a “car_prices” dictionary. It should iterate through the keys (car models) and values (car prices) in that dictionary. For each item pair, the function should format a string so that a dictionary entry like ““Kia Soul“:19000” will print \"A Kia Soul costs 19000 dollars\". Each new string should appear on its own line."
   ]
  },
  {
   "cell_type": "code",
   "execution_count": 21,
   "id": "f1a1d0ea-6ae5-4ba8-be6e-8c56355f3d91",
   "metadata": {},
   "outputs": [
    {
     "name": "stdout",
     "output_type": "stream",
     "text": [
      "A Kia Soul costs 19000 dollars\n",
      "A Lamborghini Diablo costs 55000 dollars\n",
      "A Ford Fiesta costs 13000 dollars\n",
      "A Toyota Prius costs 24000 dollars\n",
      "\n"
     ]
    }
   ],
   "source": [
    "def car_listing(car_prices):\n",
    "  result = \"\"\n",
    "  # Complete the for loop to iterate through the key and value items \n",
    "  # in the dictionary.\n",
    "  for model, price in car_prices.items():\n",
    "    result += \"A {} costs {} dollars\\n\".format(model, price) # Use a string method to format the required string. \n",
    "  return result\n",
    "\n",
    "print(car_listing({\"Kia Soul\":19000, \"Lamborghini Diablo\":55000, \"Ford Fiesta\":13000, \"Toyota Prius\":24000}))\n",
    "\n",
    "# Should print:\n",
    "# A Kia Soul costs 19000 dollars\n",
    "# A Lamborghini Diablo costs 55000 dollars\n",
    "# A Ford Fiesta costs 13000 dollars\n",
    "# A Toyota Prius costs 24000 dollars"
   ]
  },
  {
   "cell_type": "markdown",
   "id": "335df5e6-d855-4d6d-a391-439e9e7d27bc",
   "metadata": {},
   "source": [
    "### Question 6\n",
    "Consider the following scenario about using Python dictionaries: \n",
    "\n",
    "Tessa and Rick are hosting a party. Together, they sent out invitations, and collected the responses in a dictionary, with names of their friends and the number of guests each friend will be bringing. \n",
    "\n",
    "Complete the function so that the “check_guests” function retrieves the number of guests (value)  the specified friend “guest” (key) is bringing. This function should:\n",
    "\n",
    "1. accept a dictionary “guest_list” and a key “guest” variable passed through the function parameters;\n",
    "2. print the values associated with the key variable."
   ]
  },
  {
   "cell_type": "code",
   "execution_count": 22,
   "id": "ad03178e-0fca-4294-8247-254466642706",
   "metadata": {},
   "outputs": [
    {
     "name": "stdout",
     "output_type": "stream",
     "text": [
      "3\n",
      "3\n",
      "2\n"
     ]
    }
   ],
   "source": [
    "def check_guests(guest_list, guest):\n",
    "  return guest_list[guest] # Return the value for the given key\n",
    "\n",
    "\n",
    "guest_list = { \"Adam\":3, \"Camila\":3, \"David\":5, \"Jamal\":3, \"Charley\":2, \"Titus\":1, \"Raj\":6, \"Noemi\":1, \"Sakira\":3, \"Chidi\":5}\n",
    "\n",
    "\n",
    "print(check_guests(guest_list, \"Adam\")) # Should print 3\n",
    "print(check_guests(guest_list, \"Sakira\")) # Should print 3\n",
    "print(check_guests(guest_list, \"Charley\")) # Should print 2"
   ]
  },
  {
   "cell_type": "markdown",
   "id": "ece424f5-8137-4f47-a7b1-a7e99f948d61",
   "metadata": {},
   "source": [
    "### Question 7\n",
    "Complete the function so that input like \"This is a sentence.\" will return a dictionary that holds the count of each letter that occurs in the string: {'t': 2, 'h': 1, 'i': 2, 's': 3, 'a': 1, 'e': 3, 'n': 2, 'c': 1}. This function should:\n",
    "\n",
    "1. accept a string “text” variable through the function’s parameters;\n",
    "\n",
    "2. iterate over each character the input string to count the frequency of each letter found, (only letters should be counted, do not count blank spaces, numbers, or punctuation; keep in mind that Python is case sensitive);\n",
    "\n",
    "3. populate the new dictionary with the letters as keys, ensuring each key is unique, and assign the value for each key with the count of that letter;\n",
    "\n",
    "4. return the new dictionary."
   ]
  },
  {
   "cell_type": "code",
   "execution_count": 23,
   "id": "c3cc7b67-d7d8-4984-9dda-21f4a68898b7",
   "metadata": {},
   "outputs": [
    {
     "name": "stdout",
     "output_type": "stream",
     "text": [
      "{'a': 2, 'b': 2, 'c': 2}\n",
      "{'m': 1, 'a': 1, 't': 1, 'h': 1, 'i': 1, 's': 1, 'f': 1, 'u': 1, 'n': 1}\n",
      "{'t': 2, 'h': 1, 'i': 2, 's': 3, 'a': 1, 'e': 3, 'n': 2, 'c': 1}\n"
     ]
    }
   ],
   "source": [
    "def count_letters(text):\n",
    "  # Initialize a new dictionary.\n",
    "  dictionary = {}\n",
    "  # Complete the for loop to iterate through each \"text\" character and \n",
    "  # use a string method to ensure all letters are lowercase.\n",
    "  for character in text:\n",
    "    # Complete the if-statement using a string method to check if the\n",
    "    # character is a letter.\n",
    "    if character.isalpha():\n",
    "      # Complete the if-statement using a logical operator to check if \n",
    "      # the letter is not already in the dictionary.\n",
    "      if character.lower() not in dictionary: \n",
    "           # Use a dictionary operation to add the letter as a key\n",
    "           # and set the initial count value to zero.\n",
    "           dictionary[character.lower()] = 0 \n",
    "      # Use a dictionary operation to increment the letter count value \n",
    "      # for the existing key.\n",
    "      dictionary[character.lower()] += 1\n",
    "  return dictionary\n",
    "\n",
    "print(count_letters(\"AaBbCc\"))\n",
    "# Should be {'a': 2, 'b': 2, 'c': 2}\n",
    "\n",
    "print(count_letters(\"Math is fun! 2+2=4\"))\n",
    "# Should be {'m': 1, 'a': 1, 't': 1, 'h': 1, 'i': 1, 's': 1, 'f': 1, 'u': 1, 'n': 1}\n",
    "\n",
    "print(count_letters(\"This is a sentence.\"))\n",
    "# Should be {'t': 2, 'h': 1, 'i': 2, 's': 3, 'a': 1, 'e': 3, 'n': 2, 'c': 1}"
   ]
  }
 ],
 "metadata": {
  "kernelspec": {
   "display_name": "Python 3 (ipykernel)",
   "language": "python",
   "name": "python3"
  },
  "language_info": {
   "codemirror_mode": {
    "name": "ipython",
    "version": 3
   },
   "file_extension": ".py",
   "mimetype": "text/x-python",
   "name": "python",
   "nbconvert_exporter": "python",
   "pygments_lexer": "ipython3",
   "version": "3.12.7"
  }
 },
 "nbformat": 4,
 "nbformat_minor": 5
}
